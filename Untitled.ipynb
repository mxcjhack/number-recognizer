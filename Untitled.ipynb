{
 "cells": [
  {
   "cell_type": "code",
   "execution_count": 42,
   "id": "5a4accdd",
   "metadata": {},
   "outputs": [],
   "source": [
    "import numpy as np\n",
    "import pandas as pd\n",
    "from matplotlib import pyplot as plt\n"
   ]
  },
  {
   "cell_type": "code",
   "execution_count": 43,
   "id": "7caf3161",
   "metadata": {},
   "outputs": [],
   "source": [
    "data = pd.read_csv('train.csv')\n"
   ]
  },
  {
   "cell_type": "code",
   "execution_count": 44,
   "id": "7982f634",
   "metadata": {},
   "outputs": [
    {
     "data": {
      "text/html": [
       "<div>\n",
       "<style scoped>\n",
       "    .dataframe tbody tr th:only-of-type {\n",
       "        vertical-align: middle;\n",
       "    }\n",
       "\n",
       "    .dataframe tbody tr th {\n",
       "        vertical-align: top;\n",
       "    }\n",
       "\n",
       "    .dataframe thead th {\n",
       "        text-align: right;\n",
       "    }\n",
       "</style>\n",
       "<table border=\"1\" class=\"dataframe\">\n",
       "  <thead>\n",
       "    <tr style=\"text-align: right;\">\n",
       "      <th></th>\n",
       "      <th>label</th>\n",
       "      <th>pixel0</th>\n",
       "      <th>pixel1</th>\n",
       "      <th>pixel2</th>\n",
       "      <th>pixel3</th>\n",
       "      <th>pixel4</th>\n",
       "      <th>pixel5</th>\n",
       "      <th>pixel6</th>\n",
       "      <th>pixel7</th>\n",
       "      <th>pixel8</th>\n",
       "      <th>...</th>\n",
       "      <th>pixel774</th>\n",
       "      <th>pixel775</th>\n",
       "      <th>pixel776</th>\n",
       "      <th>pixel777</th>\n",
       "      <th>pixel778</th>\n",
       "      <th>pixel779</th>\n",
       "      <th>pixel780</th>\n",
       "      <th>pixel781</th>\n",
       "      <th>pixel782</th>\n",
       "      <th>pixel783</th>\n",
       "    </tr>\n",
       "  </thead>\n",
       "  <tbody>\n",
       "    <tr>\n",
       "      <th>0</th>\n",
       "      <td>1</td>\n",
       "      <td>0</td>\n",
       "      <td>0</td>\n",
       "      <td>0</td>\n",
       "      <td>0</td>\n",
       "      <td>0</td>\n",
       "      <td>0</td>\n",
       "      <td>0</td>\n",
       "      <td>0</td>\n",
       "      <td>0</td>\n",
       "      <td>...</td>\n",
       "      <td>0</td>\n",
       "      <td>0</td>\n",
       "      <td>0</td>\n",
       "      <td>0</td>\n",
       "      <td>0</td>\n",
       "      <td>0</td>\n",
       "      <td>0</td>\n",
       "      <td>0</td>\n",
       "      <td>0</td>\n",
       "      <td>0</td>\n",
       "    </tr>\n",
       "    <tr>\n",
       "      <th>1</th>\n",
       "      <td>0</td>\n",
       "      <td>0</td>\n",
       "      <td>0</td>\n",
       "      <td>0</td>\n",
       "      <td>0</td>\n",
       "      <td>0</td>\n",
       "      <td>0</td>\n",
       "      <td>0</td>\n",
       "      <td>0</td>\n",
       "      <td>0</td>\n",
       "      <td>...</td>\n",
       "      <td>0</td>\n",
       "      <td>0</td>\n",
       "      <td>0</td>\n",
       "      <td>0</td>\n",
       "      <td>0</td>\n",
       "      <td>0</td>\n",
       "      <td>0</td>\n",
       "      <td>0</td>\n",
       "      <td>0</td>\n",
       "      <td>0</td>\n",
       "    </tr>\n",
       "    <tr>\n",
       "      <th>2</th>\n",
       "      <td>1</td>\n",
       "      <td>0</td>\n",
       "      <td>0</td>\n",
       "      <td>0</td>\n",
       "      <td>0</td>\n",
       "      <td>0</td>\n",
       "      <td>0</td>\n",
       "      <td>0</td>\n",
       "      <td>0</td>\n",
       "      <td>0</td>\n",
       "      <td>...</td>\n",
       "      <td>0</td>\n",
       "      <td>0</td>\n",
       "      <td>0</td>\n",
       "      <td>0</td>\n",
       "      <td>0</td>\n",
       "      <td>0</td>\n",
       "      <td>0</td>\n",
       "      <td>0</td>\n",
       "      <td>0</td>\n",
       "      <td>0</td>\n",
       "    </tr>\n",
       "    <tr>\n",
       "      <th>3</th>\n",
       "      <td>4</td>\n",
       "      <td>0</td>\n",
       "      <td>0</td>\n",
       "      <td>0</td>\n",
       "      <td>0</td>\n",
       "      <td>0</td>\n",
       "      <td>0</td>\n",
       "      <td>0</td>\n",
       "      <td>0</td>\n",
       "      <td>0</td>\n",
       "      <td>...</td>\n",
       "      <td>0</td>\n",
       "      <td>0</td>\n",
       "      <td>0</td>\n",
       "      <td>0</td>\n",
       "      <td>0</td>\n",
       "      <td>0</td>\n",
       "      <td>0</td>\n",
       "      <td>0</td>\n",
       "      <td>0</td>\n",
       "      <td>0</td>\n",
       "    </tr>\n",
       "    <tr>\n",
       "      <th>4</th>\n",
       "      <td>0</td>\n",
       "      <td>0</td>\n",
       "      <td>0</td>\n",
       "      <td>0</td>\n",
       "      <td>0</td>\n",
       "      <td>0</td>\n",
       "      <td>0</td>\n",
       "      <td>0</td>\n",
       "      <td>0</td>\n",
       "      <td>0</td>\n",
       "      <td>...</td>\n",
       "      <td>0</td>\n",
       "      <td>0</td>\n",
       "      <td>0</td>\n",
       "      <td>0</td>\n",
       "      <td>0</td>\n",
       "      <td>0</td>\n",
       "      <td>0</td>\n",
       "      <td>0</td>\n",
       "      <td>0</td>\n",
       "      <td>0</td>\n",
       "    </tr>\n",
       "  </tbody>\n",
       "</table>\n",
       "<p>5 rows × 785 columns</p>\n",
       "</div>"
      ],
      "text/plain": [
       "   label  pixel0  pixel1  pixel2  pixel3  pixel4  pixel5  pixel6  pixel7  \\\n",
       "0      1       0       0       0       0       0       0       0       0   \n",
       "1      0       0       0       0       0       0       0       0       0   \n",
       "2      1       0       0       0       0       0       0       0       0   \n",
       "3      4       0       0       0       0       0       0       0       0   \n",
       "4      0       0       0       0       0       0       0       0       0   \n",
       "\n",
       "   pixel8  ...  pixel774  pixel775  pixel776  pixel777  pixel778  pixel779  \\\n",
       "0       0  ...         0         0         0         0         0         0   \n",
       "1       0  ...         0         0         0         0         0         0   \n",
       "2       0  ...         0         0         0         0         0         0   \n",
       "3       0  ...         0         0         0         0         0         0   \n",
       "4       0  ...         0         0         0         0         0         0   \n",
       "\n",
       "   pixel780  pixel781  pixel782  pixel783  \n",
       "0         0         0         0         0  \n",
       "1         0         0         0         0  \n",
       "2         0         0         0         0  \n",
       "3         0         0         0         0  \n",
       "4         0         0         0         0  \n",
       "\n",
       "[5 rows x 785 columns]"
      ]
     },
     "execution_count": 44,
     "metadata": {},
     "output_type": "execute_result"
    }
   ],
   "source": [
    "data.head()"
   ]
  },
  {
   "cell_type": "code",
   "execution_count": 45,
   "id": "a98ec9cb",
   "metadata": {},
   "outputs": [],
   "source": [
    "data = np.array(data)"
   ]
  },
  {
   "cell_type": "code",
   "execution_count": 46,
   "id": "50056e75",
   "metadata": {},
   "outputs": [
    {
     "data": {
      "text/plain": [
       "array([[1, 0, 0, ..., 0, 0, 0],\n",
       "       [0, 0, 0, ..., 0, 0, 0],\n",
       "       [1, 0, 0, ..., 0, 0, 0],\n",
       "       ...,\n",
       "       [7, 0, 0, ..., 0, 0, 0],\n",
       "       [6, 0, 0, ..., 0, 0, 0],\n",
       "       [9, 0, 0, ..., 0, 0, 0]], dtype=int64)"
      ]
     },
     "execution_count": 46,
     "metadata": {},
     "output_type": "execute_result"
    }
   ],
   "source": [
    "data"
   ]
  },
  {
   "cell_type": "code",
   "execution_count": 47,
   "id": "ac9cbb5e",
   "metadata": {},
   "outputs": [],
   "source": [
    "m, n = data.shape\n",
    "np.random.shuffle(data)\n",
    "\n",
    "data_dev = data[0:1000].T\n",
    "Y_dev = data_dev[0]\n",
    "X_dev = data_dev[1:n]\n",
    "X_dev = X_dev / 255."
   ]
  },
  {
   "cell_type": "code",
   "execution_count": 48,
   "id": "afe2ccb6",
   "metadata": {},
   "outputs": [],
   "source": [
    "data_train = data[1000:m].T\n",
    "Y_train = data_train[0]\n",
    "X_train = data_train[1:n]\n",
    "X_train = X_train / 255.\n",
    "_,m_train = X_train.shape"
   ]
  },
  {
   "cell_type": "code",
   "execution_count": 49,
   "id": "0b04a8d8",
   "metadata": {},
   "outputs": [
    {
     "data": {
      "text/plain": [
       "(784,)"
      ]
     },
     "execution_count": 49,
     "metadata": {},
     "output_type": "execute_result"
    }
   ],
   "source": [
    "X_train[:, 0].shape"
   ]
  },
  {
   "cell_type": "code",
   "execution_count": 50,
   "id": "95716507",
   "metadata": {},
   "outputs": [],
   "source": [
    "def init_paras():\n",
    "    W1 = np.random.rand(10, 784) - 0.5\n",
    "    b1 = np.random.rand(10 , 1) - 0.5\n",
    "    W2 = np.random.rand(10, 10) - 0.5\n",
    "    b2 = np.random.rand(10 , 1) - 0.5\n",
    "    return W1, b1, W2, b2\n",
    "\n",
    "def ReLU(Z):\n",
    "    return np.maximum(0, Z)\n",
    "\n",
    "def softmax(Z):\n",
    "    return np.exp(Z) / sum(np.exp(Z))\n",
    "    \n",
    "\n",
    "def forward_prop(W1, b1, W2, b2, X):\n",
    "    Z1 = W1.dot(X) +b1\n",
    "    A1 = ReLU(Z1)\n",
    "    Z2 = W2.dot(A1) + b2\n",
    "    A2 = softmax(Z2)\n",
    "    return Z1, A1, Z2, A2\n",
    "    \n",
    "def one_hot(Y):\n",
    "    one_hot_Y = np.zeros((Y.size , Y.max() + 1))\n",
    "    one_hot_Y[np.arange(Y.size),Y] = 1\n",
    "    one_hot_Y = one_hot_Y.T\n",
    "    return one_hot_Y\n",
    "\n",
    "def deriv_ReLU(Z):\n",
    "    return Z > 0\n",
    "    \n",
    "def back_prop(Z1, A1, Z2, A2, W2, X, Y):\n",
    "    m = Y.size\n",
    "    one_hot_Y = one_hot(Y)\n",
    "    dZ2 = A2 - one_hot_Y\n",
    "    dW2 = 1/ m * dZ2.dot(A1.T)\n",
    "    db2 = 1 / m * np.sum(dZ2)\n",
    "    dZ1 = W2.T.dot(dZ2) * deriv_ReLU(Z1)\n",
    "    dW1 = 1/ m * dZ1.dot(X.T)\n",
    "    db1 = 1/m * np.sum(dZ1)\n",
    "    return dW1, db1, dW2, db2\n",
    "\n",
    "def update_param(W1, b1, W2, b2, dW1, db1, dW2, db2, alpha ):\n",
    "    W1 = W1 - alpha * dW1\n",
    "    b1 = b1 - alpha * db1\n",
    "    W2 = W2 - alpha * dW2\n",
    "    b2 = b2 - alpha * db2\n",
    "    return W1, b1, W2, b2"
   ]
  },
  {
   "cell_type": "code",
   "execution_count": 51,
   "id": "2a32a34e",
   "metadata": {},
   "outputs": [],
   "source": [
    "def get_predictions(A2):\n",
    "    return np.argmax(A2,0)\n",
    "\n",
    "def get_accuracy(predictions, Y):\n",
    "    print(predictions, Y)\n",
    "    return np.sum(predictions == Y)/ Y.size\n",
    "\n",
    "def gradient_descent(X, Y, itterations, alpha):\n",
    "    W1, b1, W2, b2 = init_paras()\n",
    "    for i in range(itterations):\n",
    "        Z1, A1, Z2, A2 = forward_prop(W1, b1, W2, b2, X)\n",
    "        dW1, db1, dW2, db2 = back_prop(Z1, A1, Z2, A2, W2, X, Y)\n",
    "        W1, b1, W2, b2 = update_param(W1, b1, W2, b2, dW1, db1, dW2, db2, alpha)\n",
    "        if i % 50 == 0:\n",
    "            print(\"itteration: \", i)\n",
    "            print(\"Accuracy: \", get_accuracy(get_predictions(A2), Y))\n",
    "    return W1, b1, W2, b2\n",
    "\n"
   ]
  },
  {
   "cell_type": "code",
   "execution_count": 52,
   "id": "0741f39e",
   "metadata": {},
   "outputs": [
    {
     "name": "stdout",
     "output_type": "stream",
     "text": [
      "itteration:  0\n",
      "[0 3 0 ... 0 3 3] [5 3 4 ... 3 8 0]\n",
      "Accuracy:  0.09307317073170732\n",
      "itteration:  50\n",
      "[7 1 4 ... 3 3 0] [5 3 4 ... 3 8 0]\n",
      "Accuracy:  0.4088292682926829\n",
      "itteration:  100\n",
      "[5 1 0 ... 3 8 0] [5 3 4 ... 3 8 0]\n",
      "Accuracy:  0.5960731707317073\n",
      "itteration:  150\n",
      "[5 1 0 ... 3 8 0] [5 3 4 ... 3 8 0]\n",
      "Accuracy:  0.6841951219512196\n",
      "itteration:  200\n",
      "[5 1 0 ... 3 8 0] [5 3 4 ... 3 8 0]\n",
      "Accuracy:  0.7349756097560975\n",
      "itteration:  250\n",
      "[5 1 0 ... 3 8 0] [5 3 4 ... 3 8 0]\n",
      "Accuracy:  0.7696341463414634\n",
      "itteration:  300\n",
      "[5 1 0 ... 3 8 0] [5 3 4 ... 3 8 0]\n",
      "Accuracy:  0.7941707317073171\n",
      "itteration:  350\n",
      "[5 1 0 ... 3 8 0] [5 3 4 ... 3 8 0]\n",
      "Accuracy:  0.8127317073170731\n",
      "itteration:  400\n",
      "[5 7 0 ... 3 8 0] [5 3 4 ... 3 8 0]\n",
      "Accuracy:  0.8252682926829268\n",
      "itteration:  450\n",
      "[5 7 0 ... 3 8 0] [5 3 4 ... 3 8 0]\n",
      "Accuracy:  0.8361219512195122\n"
     ]
    }
   ],
   "source": [
    "W1, b1, W2, b2 = gradient_descent(X_train, Y_train, 500, 0.1)\n"
   ]
  },
  {
   "cell_type": "code",
   "execution_count": 53,
   "id": "5cc53127",
   "metadata": {},
   "outputs": [],
   "source": [
    "def make_predictions(X, W1, b1, W2, b2):\n",
    "    _, _, _, A2 = forward_prop(W1, b1, W2, b2, X)\n",
    "    predictions = get_predictions(A2)\n",
    "    return predictions\n",
    "\n",
    "def test_prediction(index, W1, b1, W2, b2):\n",
    "    current_image = X_train[:, index, None]\n",
    "    prediction = make_predictions(X_train[:, index, None], W1, b1, W2, b2)\n",
    "    label = Y_train[index]\n",
    "    print(\"Prediction: \", prediction)\n",
    "    print(\"Label: \", label)\n",
    "    \n",
    "    current_image = current_image.reshape((28, 28)) * 255\n",
    "    plt.gray()\n",
    "    plt.imshow(current_image, interpolation='nearest')\n",
    "    plt.show()"
   ]
  },
  {
   "cell_type": "code",
   "execution_count": 55,
   "id": "e07be7ad",
   "metadata": {},
   "outputs": [
    {
     "name": "stdout",
     "output_type": "stream",
     "text": [
      "Prediction:  [8]\n",
      "Label:  8\n"
     ]
    },
    {
     "data": {
      "image/png": "[encoded data removed]",
      "text/plain": [
       "<Figure size 640x480 with 1 Axes>"
      ]
     },
     "metadata": {},
     "output_type": "display_data"
    },
    {
     "name": "stdout",
     "output_type": "stream",
     "text": [
      "Prediction:  [7]\n",
      "Label:  7\n"
     ]
    },
    {
     "data": {
      "image/png": "[encoded data removed]",
      "text/plain": [
       "<Figure size 640x480 with 1 Axes>"
      ]
     },
     "metadata": {},
     "output_type": "display_data"
    },
    {
     "name": "stdout",
     "output_type": "stream",
     "text": [
      "Prediction:  [9]\n",
      "Label:  9\n"
     ]
    },
    {
     "data": {
      "image/png": "[encoded data removed]",
      "text/plain": [
       "<Figure size 640x480 with 1 Axes>"
      ]
     },
     "metadata": {},
     "output_type": "display_data"
    },
    {
     "name": "stdout",
     "output_type": "stream",
     "text": [
      "Prediction:  [9]\n",
      "Label:  9\n"
     ]
    },
    {
     "data": {
      "image/png": "[encoded data removed]",
      "text/plain": [
       "<Figure size 640x480 with 1 Axes>"
      ]
     },
     "metadata": {},
     "output_type": "display_data"
    }
   ],
   "source": [
    "test_prediction(4, W1, b1, W2, b2)\n",
    "test_prediction(5, W1, b1, W2, b2)\n",
    "test_prediction(6, W1, b1, W2, b2)\n",
    "test_prediction(7, W1, b1, W2, b2)"
   ]
  },
  {
   "cell_type": "code",
   "execution_count": 56,
   "id": "17b3c4b5",
   "metadata": {},
   "outputs": [
    {
     "name": "stdout",
     "output_type": "stream",
     "text": [
      "[4 6 8 5 9 3 4 6 6 9 2 2 6 5 6 2 3 3 8 0 3 8 7 7 0 7 5 2 4 1 7 6 3 4 4 4 6\n",
      " 3 6 8 8 5 0 6 9 9 1 3 1 7 0 3 4 3 7 0 5 9 9 6 9 5 8 8 3 3 3 1 0 3 2 8 8 6\n",
      " 1 2 6 0 7 0 7 2 4 3 3 3 4 9 9 2 0 5 6 4 7 1 7 0 5 8 4 6 7 9 0 7 7 9 3 4 7\n",
      " 7 9 9 3 5 6 5 3 8 9 9 5 1 3 3 3 1 2 2 2 1 4 7 7 6 4 2 9 8 4 1 0 4 8 3 9 9\n",
      " 2 5 6 0 3 4 9 3 3 5 2 3 6 9 8 7 2 7 8 1 4 4 4 8 6 3 2 8 8 0 2 5 7 2 0 2 6\n",
      " 8 3 0 0 5 6 2 5 9 9 2 8 8 2 6 7 4 8 9 1 9 0 2 4 9 0 8 2 3 7 0 6 4 8 1 8 9\n",
      " 8 0 5 4 8 2 2 4 5 9 7 0 5 5 9 5 0 8 4 2 9 2 6 1 0 7 0 3 2 6 4 6 3 4 9 9 0\n",
      " 2 3 1 8 2 9 0 5 0 6 8 5 5 7 8 4 7 7 2 4 7 1 7 8 2 4 3 9 1 0 2 4 5 7 1 1 4\n",
      " 1 3 6 4 4 8 6 7 8 1 4 1 5 5 4 9 5 9 5 2 0 0 1 2 1 5 0 2 5 3 6 7 8 1 8 1 7\n",
      " 5 3 8 3 1 6 9 7 7 6 9 0 1 4 1 1 0 1 0 6 9 7 4 6 1 5 9 4 8 7 2 1 3 8 9 8 8\n",
      " 5 0 9 4 7 5 2 8 2 7 0 0 1 0 3 9 3 4 5 9 7 5 4 0 8 9 2 9 4 5 4 9 1 6 2 1 6\n",
      " 7 5 3 4 5 7 8 1 7 9 9 3 0 1 3 9 4 2 0 9 9 0 8 2 2 7 4 1 9 5 3 6 5 8 9 1 0\n",
      " 1 6 3 2 2 6 6 9 7 2 4 5 0 1 8 1 3 9 1 8 7 8 4 5 2 1 9 4 8 9 9 1 8 0 1 6 6\n",
      " 1 4 6 1 6 1 0 5 9 4 3 5 7 5 1 9 3 4 9 2 9 9 7 4 6 5 2 0 7 7 8 2 7 9 3 0 7\n",
      " 0 6 7 0 6 0 5 5 1 6 2 6 9 9 1 6 2 2 0 8 7 0 2 2 4 0 5 4 4 8 4 9 2 4 5 4 8\n",
      " 1 3 7 0 7 0 0 7 2 2 6 8 7 7 3 4 3 6 2 4 9 3 7 9 7 6 3 3 2 4 7 6 6 8 7 6 7\n",
      " 8 2 2 7 5 5 1 1 3 8 6 3 9 5 2 9 9 6 8 8 9 2 9 2 0 0 0 3 9 6 2 4 1 9 4 8 0\n",
      " 0 8 0 5 6 2 7 4 4 7 7 4 4 7 3 8 8 0 7 9 1 7 5 6 3 1 3 7 7 5 3 7 3 0 4 9 2\n",
      " 7 3 1 2 8 3 7 3 8 1 4 9 0 2 9 9 7 2 2 3 7 3 6 2 8 1 9 5 5 9 2 8 2 8 2 6 1\n",
      " 6 1 2 7 7 3 8 6 3 2 0 4 1 9 1 6 0 4 5 7 9 6 2 6 1 3 7 6 8 7 2 0 4 1 1 5 6\n",
      " 8 7 7 6 1 2 3 0 8 0 6 5 5 1 0 6 0 9 2 9 6 9 1 5 6 3 0 0 1 1 8 8 2 6 6 7 3\n",
      " 6 3 0 2 0 1 5 5 1 4 8 1 4 5 2 1 8 9 0 2 4 8 6 2 3 2 1 4 8 5 9 9 4 6 0 8 3\n",
      " 8 6 6 5 8 2 1 6 0 5 8 4 7 5 8 4 6 3 2 9 6 7 9 3 2 6 6 5 2 0 1 9 7 8 3 8 4\n",
      " 7 2 5 6 2 4 6 6 0 2 8 7 4 6 1 1 9 2 2 1 3 5 1 3 7 1 5 8 3 7 0 0 4 8 9 2 6\n",
      " 4 3 1 2 9 3 2 5 9 0 6 5 2 2 4 9 5 2 6 7 8 4 6 0 7 1 8 0 4 2 4 2 7 4 4 4 1\n",
      " 0 1 5 3 1 5 3 6 2 1 2 6 4 5 7 3 6 2 5 1 5 3 6 8 4 9 5 1 2 8 1 6 9 9 5 0 1\n",
      " 9 7 3 2 7 7 4 3 8 1 9 5 9 4 3 3 6 7 2 1 9 1 1 4 8 5 6 9 8 1 8 7 4 3 7 4 1\n",
      " 4] [4 6 8 5 9 3 4 6 6 3 2 2 6 5 6 2 3 3 8 0 3 4 7 7 0 7 5 2 4 1 7 6 3 4 4 2 6\n",
      " 3 6 3 8 5 0 6 9 9 1 3 1 1 0 3 4 5 7 0 3 9 9 2 9 5 8 8 3 7 3 1 0 3 2 8 9 6\n",
      " 1 2 6 0 7 0 7 2 9 5 8 3 4 9 9 2 0 0 6 4 7 1 7 0 5 8 4 6 7 4 0 7 7 9 3 9 7\n",
      " 7 9 9 3 5 6 8 5 8 9 9 5 1 5 3 3 1 2 2 2 1 4 7 7 6 4 2 9 7 4 1 0 4 8 3 9 9\n",
      " 2 3 6 0 3 4 9 3 0 5 2 3 6 9 8 7 2 3 8 1 4 4 4 8 6 3 2 3 8 0 2 5 7 2 6 7 6\n",
      " 8 3 0 0 5 6 2 5 9 8 2 8 8 3 6 7 4 8 9 1 9 0 2 4 9 0 5 2 3 3 0 6 4 8 1 8 5\n",
      " 8 0 1 9 8 0 2 5 5 9 7 0 0 5 9 5 0 8 4 2 9 2 4 1 0 7 0 3 2 6 4 6 3 4 4 9 0\n",
      " 2 5 1 8 2 3 0 5 2 6 8 5 5 7 8 4 7 7 2 4 7 1 3 8 2 4 3 1 1 0 2 4 5 7 1 3 4\n",
      " 1 3 6 4 6 8 6 7 8 1 6 1 8 5 4 9 5 9 5 2 0 5 1 2 1 0 0 2 3 3 6 7 8 1 8 1 7\n",
      " 5 2 9 3 1 6 8 7 9 6 9 0 8 4 1 1 0 1 0 6 9 7 4 5 1 5 9 9 3 7 2 1 9 8 9 8 8\n",
      " 5 0 9 4 2 8 2 8 2 8 0 0 1 0 3 3 3 4 5 9 7 5 9 0 8 9 2 9 4 5 4 4 1 5 2 1 6\n",
      " 7 5 3 4 8 7 8 3 7 7 9 5 0 1 3 4 4 2 0 9 9 0 8 2 6 3 9 1 9 5 3 6 5 4 9 1 0\n",
      " 1 6 3 2 8 6 6 9 7 2 4 5 0 1 8 1 3 2 1 8 7 8 4 5 2 7 4 9 8 9 9 1 8 0 1 6 6\n",
      " 3 4 6 1 6 1 0 5 9 4 3 5 7 5 8 9 2 4 9 2 7 9 7 4 6 5 2 5 2 7 3 2 7 9 3 0 7\n",
      " 0 6 7 0 2 0 5 5 1 6 2 6 9 9 1 6 2 6 0 5 7 0 2 2 4 0 5 4 4 8 4 9 2 4 5 4 8\n",
      " 1 5 2 0 7 0 0 7 2 2 6 8 7 9 3 9 3 6 2 4 9 3 7 9 7 6 3 3 2 4 7 6 6 5 7 6 7\n",
      " 8 2 2 7 5 0 1 1 3 8 6 5 9 3 2 9 9 5 8 3 8 2 9 2 0 0 0 3 5 6 6 6 1 9 4 8 0\n",
      " 0 8 0 5 1 2 7 9 4 7 9 4 9 7 3 8 9 2 7 9 1 7 5 6 3 1 5 7 7 5 5 7 3 0 4 9 2\n",
      " 2 3 1 2 8 3 4 9 8 1 4 9 0 2 9 9 7 2 2 5 7 3 6 2 8 1 4 5 8 9 2 8 2 8 3 6 1\n",
      " 6 1 2 7 7 6 8 6 3 2 0 4 1 9 1 5 0 4 5 7 9 6 2 6 1 3 7 0 8 7 2 6 9 1 1 6 6\n",
      " 3 9 3 6 1 2 3 0 8 0 6 5 5 1 0 6 0 9 2 9 6 9 1 5 6 6 0 0 2 1 9 2 2 6 6 7 8\n",
      " 6 3 0 2 0 1 5 5 1 4 8 1 4 5 2 1 8 9 0 2 4 8 6 1 3 2 1 4 8 5 9 9 4 6 0 8 3\n",
      " 8 6 6 5 8 2 1 6 0 5 4 4 7 3 5 4 6 9 3 9 6 7 8 3 7 6 6 5 2 0 1 9 7 8 3 8 4\n",
      " 7 2 5 6 2 4 4 6 0 5 8 7 4 6 1 1 7 2 2 1 8 5 1 3 7 1 5 8 3 7 0 0 4 8 9 2 6\n",
      " 4 8 1 2 9 3 2 7 7 0 6 5 2 2 5 8 5 2 6 7 8 4 6 0 7 1 1 0 9 2 4 2 7 9 4 4 1\n",
      " 2 1 3 3 1 5 3 6 3 1 2 6 4 5 7 3 6 2 5 1 5 3 6 8 4 9 5 1 2 3 1 6 9 9 5 0 1\n",
      " 9 7 3 3 7 9 9 5 8 1 9 5 9 4 3 3 6 7 2 1 7 1 1 9 8 5 6 9 8 1 3 7 4 3 7 4 1\n",
      " 4]\n"
     ]
    },
    {
     "data": {
      "text/plain": [
       "0.836"
      ]
     },
     "execution_count": 56,
     "metadata": {},
     "output_type": "execute_result"
    }
   ],
   "source": [
    "dev_predictions = make_predictions(X_dev, W1, b1, W2, b2)\n",
    "get_accuracy(dev_predictions, Y_dev)"
   ]
  },
  {
   "cell_type": "code",
   "execution_count": null,
   "id": "68e3b9d2",
   "metadata": {},
   "outputs": [],
   "source": []
  }
 ],
 "metadata": {
  "kernelspec": {
   "display_name": "Python 3 (ipykernel)",
   "language": "python",
   "name": "python3"
  },
  "language_info": {
   "codemirror_mode": {
    "name": "ipython",
    "version": 3
   },
   "file_extension": ".py",
   "mimetype": "text/x-python",
   "name": "python",
   "nbconvert_exporter": "python",
   "pygments_lexer": "ipython3",
   "version": "3.10.11"
  }
 },
 "nbformat": 4,
 "nbformat_minor": 5
}
